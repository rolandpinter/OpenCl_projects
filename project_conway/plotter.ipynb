{
 "cells": [
  {
   "cell_type": "code",
   "execution_count": 3,
   "metadata": {},
   "outputs": [],
   "source": [
    "import numpy as np\n",
    "import pandas as pd\n",
    "import imageio\n",
    "import matplotlib.pyplot as plt"
   ]
  },
  {
   "cell_type": "code",
   "execution_count": 4,
   "metadata": {},
   "outputs": [
    {
     "data": {
      "image/png": "[encoded data removed]",
      "text/plain": [
       "<Figure size 432x288 with 1 Axes>"
      ]
     },
     "metadata": {
      "needs_background": "light"
     },
     "output_type": "display_data"
    }
   ],
   "source": [
    "T = 30\n",
    "\n",
    "images = []\n",
    "\n",
    "for t in range(0, T):\n",
    "    path = 'csv_outputs/grid' + str(t) + '.csv'\n",
    "    df = pd.read_csv(path, header = None)\n",
    "    grid = df.values\n",
    "\n",
    "    plt.imshow(grid)\n",
    "    \n",
    "    png_path = 'pngs/grid' + str(t) + '.png'\n",
    "    plt.savefig(png_path)\n",
    "    images.append(imageio.imread(png_path))\n",
    "    \n",
    "imageio.mimsave('gifs/game.gif', images, fps = 2)"
   ]
  }
 ],
 "metadata": {
  "kernelspec": {
   "display_name": "Python 3",
   "language": "python",
   "name": "python3"
  },
  "language_info": {
   "codemirror_mode": {
    "name": "ipython",
    "version": 3
   },
   "file_extension": ".py",
   "mimetype": "text/x-python",
   "name": "python",
   "nbconvert_exporter": "python",
   "pygments_lexer": "ipython3",
   "version": "3.7.4"
  }
 },
 "nbformat": 4,
 "nbformat_minor": 4
}
