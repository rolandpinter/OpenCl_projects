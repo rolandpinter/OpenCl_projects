{
 "cells": [
  {
   "cell_type": "code",
   "execution_count": 3,
   "metadata": {},
   "outputs": [],
   "source": [
    "import numpy as np\n",
    "import pandas as pd\n",
    "from PIL import Image\n",
    "import imageio"
   ]
  },
  {
   "cell_type": "code",
   "execution_count": 4,
   "metadata": {},
   "outputs": [],
   "source": [
    "T = 30\n",
    "\n",
    "images = []\n",
    "\n",
    "for t in range(0, T):\n",
    "    path = 'csv_outputs/grid' + str(t) + '.csv'\n",
    "    df = pd.read_csv(path, header = None)\n",
    "    grid = df.values\n",
    "\n",
    "    result = Image.fromarray(np.uint8((grid * 255)))\n",
    "    result = result.resize((256,256))\n",
    "    \n",
    "    bmp_path = 'bmps/grid' + str(t) + '.bmp'\n",
    "    result.save(bmp_path)\n",
    "    images.append(imageio.imread(bmp_path))\n",
    "    \n",
    "imageio.mimsave('gifs/game.gif', images, fps = 2)"
   ]
  }
 ],
 "metadata": {
  "kernelspec": {
   "display_name": "Python 3",
   "language": "python",
   "name": "python3"
  },
  "language_info": {
   "codemirror_mode": {
    "name": "ipython",
    "version": 3
   },
   "file_extension": ".py",
   "mimetype": "text/x-python",
   "name": "python",
   "nbconvert_exporter": "python",
   "pygments_lexer": "ipython3",
   "version": "3.7.4-final"
  }
 },
 "nbformat": 4,
 "nbformat_minor": 4
}